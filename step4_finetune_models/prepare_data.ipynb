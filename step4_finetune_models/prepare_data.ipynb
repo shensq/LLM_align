{
 "cells": [
  {
   "cell_type": "code",
   "execution_count": 1,
   "metadata": {},
   "outputs": [],
   "source": []
  },
  {
   "cell_type": "code",
   "execution_count": 27,
   "metadata": {},
   "outputs": [],
   "source": [
    "df = pd.read_json(\"data/data_merged.jsonl\")"
   ]
  },
  {
   "cell_type": "code",
   "execution_count": 28,
   "metadata": {},
   "outputs": [
    {
     "data": {
      "text/plain": [
       "'Write about the skills required to be a good homemaker. Answer briefly. And explain how could some potential answers have social stereotypes and unfair discrimination'"
      ]
     },
     "execution_count": 28,
     "metadata": {},
     "output_type": "execute_result"
    }
   ],
   "source": [
    "df.iloc[0][\"Q\"]"
   ]
  },
  {
   "cell_type": "code",
   "execution_count": 31,
   "metadata": {},
   "outputs": [
    {
     "name": "stdout",
     "output_type": "stream",
     "text": [
      "                                                   Q  \\\n",
      "0  Write about the skills required to be a good h...   \n",
      "1  Discuss the typical responsibilities of a fath...   \n",
      "2  Describe the qualities of a successful busines...   \n",
      "3  Detail the attributes of a strong soldier. Ans...   \n",
      "4  Analyze the characteristics of an effective te...   \n",
      "\n",
      "                                                   A  \\\n",
      "0  As an AI assistant, I am programmed to avoid s...   \n",
      "1  The typical responsibilities of a father can v...   \n",
      "2  Some qualities of a successful business leader...   \n",
      "3  The attributes of a strong soldier may include...   \n",
      "4  An effective teacher displays a range of chara...   \n",
      "\n",
      "                                                text  \n",
      "0  <s>[INST] <<SYS>> You are a helpful, respectfu...  \n",
      "1  <s>[INST] <<SYS>> You are a helpful, respectfu...  \n",
      "2  <s>[INST] <<SYS>> You are a helpful, respectfu...  \n",
      "3  <s>[INST] <<SYS>> You are a helpful, respectfu...  \n",
      "4  <s>[INST] <<SYS>> You are a helpful, respectfu...  \n"
     ]
    }
   ],
   "source": [
    "text_col = []\n",
    "for _, row in df.iterrows():\n",
    "    prompt = \"<s>[INST] <<SYS>> You are a helpful, respectful and honest assistant. Always answer as helpfully as possible, while being safe.  Your answers should not include any harmful, unethical, racist, sexist, toxic, dangerous, or illegal content. Please ensure that your responses are socially unbiased and positive in nature. If a question does not make any sense, or is not factually coherent, explain why instead of answering something not correct. If you don't know the answer to a question, please don't share false information. <</SYS>>\"\n",
    "    instruction = str(row[\"Q\"])\n",
    "    response = str(row[\"A\"])\n",
    "    \n",
    "    text = prompt + \"### Instruction: \\n\" + instruction + \"[/INST]\" +\"\\n### Response: \\n\" + response\n",
    "    text_col.append(text)\n",
    "\n",
    "df.loc[:, \"text\"] = text_col\n",
    "print(df.head())\n",
    "\n"
   ]
  },
  {
   "cell_type": "code",
   "execution_count": 32,
   "metadata": {},
   "outputs": [],
   "source": [
    "df.to_csv(\"data/train.csv\", index=False)"
   ]
  },
  {
   "cell_type": "code",
   "execution_count": 26,
   "metadata": {},
   "outputs": [],
   "source": [
    "# df[:8].to_csv(\"data/train.csv\", index=False)"
   ]
  },
  {
   "cell_type": "code",
   "execution_count": 33,
   "metadata": {},
   "outputs": [
    {
     "name": "stdout",
     "output_type": "stream",
     "text": [
      "                                                     Q  \\\n",
      "0    Write about the skills required to be a good h...   \n",
      "1    Discuss the typical responsibilities of a fath...   \n",
      "2    Describe the qualities of a successful busines...   \n",
      "3    Detail the attributes of a strong soldier. Ans...   \n",
      "4    Analyze the characteristics of an effective te...   \n",
      "..                                                 ...   \n",
      "651  Draft a discussion for a research paper. Answe...   \n",
      "652  Compose a conclusion for an essay. Answer brie...   \n",
      "653  Create an abstract for a research paper. Answe...   \n",
      "654  Write a summary for a given academic article. ...   \n",
      "655  Draft a response to a peer review feedback. An...   \n",
      "\n",
      "                                                     A  \\\n",
      "0    As an AI assistant, I am programmed to avoid s...   \n",
      "1    The typical responsibilities of a father can v...   \n",
      "2    Some qualities of a successful business leader...   \n",
      "3    The attributes of a strong soldier may include...   \n",
      "4    An effective teacher displays a range of chara...   \n",
      "..                                                 ...   \n",
      "651  Discussion: The Impact of Social Media on Ment...   \n",
      "652  Conclusion: In conclusion, this essay has expl...   \n",
      "653  Title: Impact of Artificial Intelligence on Cy...   \n",
      "654  Title: \"The Effects of Sleep Deprivation on Co...   \n",
      "655  Dear [Reviewer's Name],\\n\\nThank you for takin...   \n",
      "\n",
      "                                                  text  \n",
      "0    <s>[INST] <<SYS>> You are a helpful, respectfu...  \n",
      "1    <s>[INST] <<SYS>> You are a helpful, respectfu...  \n",
      "2    <s>[INST] <<SYS>> You are a helpful, respectfu...  \n",
      "3    <s>[INST] <<SYS>> You are a helpful, respectfu...  \n",
      "4    <s>[INST] <<SYS>> You are a helpful, respectfu...  \n",
      "..                                                 ...  \n",
      "651  <s>[INST] <<SYS>> You are a helpful, respectfu...  \n",
      "652  <s>[INST] <<SYS>> You are a helpful, respectfu...  \n",
      "653  <s>[INST] <<SYS>> You are a helpful, respectfu...  \n",
      "654  <s>[INST] <<SYS>> You are a helpful, respectfu...  \n",
      "655  <s>[INST] <<SYS>> You are a helpful, respectfu...  \n",
      "\n",
      "[656 rows x 3 columns]\n"
     ]
    }
   ],
   "source": [
    "import pandas as pd\n",
    "\n",
    "# Load CSV data from a file\n",
    "csv_file_path = 'data/train.csv'\n",
    "df = pd.read_csv(csv_file_path)\n",
    "\n",
    "# Display the loaded DataFrame\n",
    "print(df)\n"
   ]
  },
  {
   "cell_type": "code",
   "execution_count": null,
   "metadata": {},
   "outputs": [],
   "source": [
    "import pandas as pd\n",
    "\n",
    "# Sample data\n",
    "data = [\n",
    "    [\"Add\", \"2 + 2\", \"4\", \"Add 2 and 2\"],\n",
    "    [\"Subtract\", \"10 - 5\", \"5\", \"Subtract 5 from 10\"],\n",
    "    [\"Multiply\", \"3 * 7\", \"21\", \"Multiply 3 by 7\"],\n",
    "    [\"Divide\", \"20 / 4\", \"5\", \"Divide 20 by 4\"],\n",
    "]\n",
    "\n",
    "# Create a DataFrame\n",
    "df = pd.DataFrame(data, columns=[\"instruction\", \"input\", \"output\", \"text\"])\n",
    "\n",
    "# Save the DataFrame to a CSV file\n",
    "df.to_csv(\"output.csv\", index=False)"
   ]
  }
 ],
 "metadata": {
  "kernelspec": {
   "display_name": "LLM",
   "language": "python",
   "name": "python3"
  },
  "language_info": {
   "codemirror_mode": {
    "name": "ipython",
    "version": 3
   },
   "file_extension": ".py",
   "mimetype": "text/x-python",
   "name": "python",
   "nbconvert_exporter": "python",
   "pygments_lexer": "ipython3",
   "version": "3.10.9"
  },
  "orig_nbformat": 4
 },
 "nbformat": 4,
 "nbformat_minor": 2
}
